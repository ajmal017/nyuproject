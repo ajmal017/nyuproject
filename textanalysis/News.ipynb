{
 "cells": [
  {
   "cell_type": "code",
   "execution_count": 62,
   "metadata": {},
   "outputs": [],
   "source": [
    "import requests\n",
    "import re\n",
    "from bs4 import BeautifulSoup "
   ]
  },
  {
   "cell_type": "code",
   "execution_count": 63,
   "metadata": {},
   "outputs": [],
   "source": [
    "# news api key: 88fc41fd9cac459ba9ef9f982a352180\n",
    "# stock news API key: 6gvjwucueamms9sakk30u3oandnfoq2v466gjenk"
   ]
  },
  {
   "cell_type": "code",
   "execution_count": 64,
   "metadata": {},
   "outputs": [],
   "source": [
    "# currently supported publishers: NYTimes, Forbes, Reuters, CNBC, CNN, ABC News, FOX News\n",
    "# unsupported: Bloomberg, Business Insider\n",
    "# more publishers to be added"
   ]
  },
  {
   "cell_type": "code",
   "execution_count": 65,
   "metadata": {},
   "outputs": [],
   "source": [
    "def get_news_text(url):\n",
    "    page = requests.get(url)\n",
    "    bs = BeautifulSoup(page.text, \"html.parser\")\n",
    "\n",
    "    sources = {\n",
    "                \"nytimes\"  : [\"p\", \"css-exrw3m evys1bk0\"], \n",
    "                \"forbes\"   : [\"div\", \"article-body fs-article fs-responsive-text current-article\"],\n",
    "                \"reuters\"  : [\"div\", \"StandardArticleBody_body\"],\n",
    "                \"cnbc\"     : [\"div\", \"group\"],\n",
    "                \"cnn\"      : [\"div\", \"zn-body__paragraph\"],\n",
    "                \"abcnews\"  : [\"article\", \"Article__Content story\"],\n",
    "                \"foxnews\"  : [\"div\", \"article-body\"]\n",
    "              }\n",
    "\n",
    "    text = ''\n",
    "\n",
    "    for source in sources.keys():\n",
    "\n",
    "        string = r\"\" + source + \".\"\n",
    "        match = re.search(string, url)\n",
    "\n",
    "        if match:\n",
    "            body = bs.findAll(sources[source][0], sources[source][1])\n",
    "            for i in body:\n",
    "                text += i.text.strip()\n",
    "\n",
    "    return text"
   ]
  },
  {
   "cell_type": "code",
   "execution_count": null,
   "metadata": {},
   "outputs": [],
   "source": []
  },
  {
   "cell_type": "code",
   "execution_count": 69,
   "metadata": {},
   "outputs": [],
   "source": [
    "def stock_news_api(name):\n",
    "    \n",
    "    url_list = []\n",
    "    \n",
    "    api = \"https://stocknewsapi.com/api/v1\"\n",
    "    params = {\n",
    "        \"tickers\": name,\n",
    "        \"items\"  : 10,\n",
    "        \"token\"  : \"6gvjwucueamms9sakk30u3oandnfoq2v466gjenk\",\n",
    "        \"source\" : \"NYTimes,Reuters,Forbes,CNBC,CNN\",\n",
    "        \"topicexclude\":\"earnings,manda,product,dividend,CEO,tanalysis\",\n",
    "        \"search\":\"corona\",\n",
    "        \"sentiment\":\"positive\",\n",
    "        \"type\":\"article\",\n",
    "        \"sectorexclude\":\"Financial\"\n",
    "    }\n",
    "    data = requests.get(api, params = params).json()\n",
    "    print(data)\n",
    "        \n",
    "    return url_list\n",
    "    "
   ]
  },
  {
   "cell_type": "code",
   "execution_count": 73,
   "metadata": {},
   "outputs": [
    {
     "name": "stdout",
     "output_type": "stream",
     "text": [
      "{'data': [{'news_url': 'https://www.forbes.com/sites/tomaspray/2020/01/09/oversold-dow-stocks-to-watch-in-2020/', 'image_url': 'https://cdn.snapi.dev/images/v1/o/v/oversold-dow-stocks-to-watch-in-2020.jpg', 'title': 'Oversold Dow Stocks To Watch In 2020', 'text': 'With the overall stock market sentiment quite bullish as we enter the New Year, a look at the most oversold stocks in the Dow Industrials may reveal some stocks that will be leaders later in the year.', 'source_name': 'Forbes', 'date': 'Thu, 09 Jan 2020 07:40:45 -0500', 'topics': [], 'sentiment': 'Positive', 'type': 'Article', 'tickers': ['HD', 'KO', 'MCD', 'PG', 'TRV']}, {'news_url': 'https://www.cnbc.com/2019/12/27/these-are-the-stocks-to-watch-in-2020-wall-street-analysts-say.html', 'image_url': 'https://cdn.snapi.dev/images/v1/3/e/etf36-13.jpg', 'title': 'These are the stocks to watch in 2020, according to Wall Street analysts', 'text': 'Wall Street analysts named their top picks for 2020.', 'source_name': 'CNBC', 'date': 'Fri, 27 Dec 2019 08:52:54 -0500', 'topics': [], 'sentiment': 'Positive', 'type': 'Article', 'tickers': ['AAPL', 'KO', 'NKE', 'T', 'TTD', 'ZNGA']}, {'news_url': 'https://www.cnbc.com/2019/12/02/morgan-stanley-says-its-time-to-get-defensive-and-buy-coca-cola.html', 'image_url': 'https://cdn.snapi.dev/images/v1/o/p/105438743-1555966945026soda.jpg', 'title': \"Morgan Stanley says get defensive because of 'late cycle' economy, buy stocks like Coca-Cola\", 'text': 'Trade tensions and the election will foster uncertainty in 2020, making stocks like Coke more attractive, according to Morgan Stanley.', 'source_name': 'CNBC', 'date': 'Mon, 02 Dec 2019 08:55:00 -0500', 'topics': [], 'sentiment': 'Positive', 'type': 'Article', 'tickers': ['KO']}, {'news_url': 'https://www.forbes.com/sites/greatspeculations/2019/11/21/is-coca-colas-stock-fairly-valued/', 'image_url': 'https://cdn.snapi.dev/images/v1/6/p/m02d20190701t2i1403382789rlynxnpef6027gw640.jpg', 'title': 'Is Coca-Cola’s Stock Fairly Valued?', 'text': 'Based on its current market price and future growth prospects, Coca-Cola (NYSE: KO) looks undervalued at present. Trefis has a price estimate of $57 per share for Coca-Cola’s stock, higher than its current market price of $53 (as on November 19, 2019), which reflects an upside of 7.5%.', 'source_name': 'Forbes', 'date': 'Thu, 21 Nov 2019 13:30:00 -0500', 'topics': [], 'sentiment': 'Positive', 'type': 'Article', 'tickers': ['KO']}, {'news_url': 'https://www.forbes.com/sites/greatspeculations/2019/11/20/stocks-to-trade-in-december/', 'image_url': 'https://cdn.snapi.dev/images/v1/u/9/etf35-28.jpg', 'title': 'Stocks To Trade In December', 'text': 'Here are the Dow stocks that are likely to outperform in the month of December.', 'source_name': 'Forbes', 'date': 'Wed, 20 Nov 2019 19:25:00 -0500', 'topics': [], 'sentiment': 'Positive', 'type': 'Article', 'tickers': ['DIS', 'KO', 'MMM', 'TRV', 'UTX', 'V', 'XOM']}, {'news_url': 'https://www.cnn.com/2019/10/18/investing/coca-cola-earnings/index.html', 'image_url': 'https://cdn.snapi.dev/images/v1/i/t/191018084236-coca-cola-zero-sugar-7-5-oz-file-super-169.jpg', 'title': 'Small cans lead to big sales for Coca-Cola', 'text': 'Good things came in small sizes for Coca-Cola last quarter. The company reported sales that topped forecasts, thanks in part to a double-digit increase in volume for its 7.5-ounce mini cans.', 'source_name': 'CNN Business', 'date': 'Fri, 18 Oct 2019 10:47:58 -0400', 'topics': [], 'sentiment': 'Positive', 'type': 'Article', 'tickers': ['KO']}, {'news_url': 'https://www.reuters.com/article/us-environment-plastic-aluminium-factbox/factbox-aluminum-cans-get-boost-from-anger-over-plastic-pollution-idUSKBN1WW0KC', 'image_url': 'https://cdn.snapi.dev/images/v1/m/0/m02d20191017t2i1441762570rlynxmpef9g0e3w640.jpg', 'title': 'Factbox: Aluminum cans get boost from anger over plastic pollution', 'text': \"French food and drinks multinational Danone  is the latest company shaking up the world's $19 billion bottled water industry by switching some of its plastic bottles, which pollute oceans, to aluminum cans.\", 'source_name': 'Reuters', 'date': 'Thu, 17 Oct 2019 02:24:22 -0400', 'topics': [], 'sentiment': 'Positive', 'type': 'Article', 'tickers': ['KO', 'NSRGY', 'PEP']}, {'news_url': 'https://www.forbes.com/sites/sergeiklebnikov/2019/10/16/coca-cola-wins-us-corporate-transparency-award-new-ranking-shows/', 'image_url': 'https://cdn.snapi.dev/images/v1/5/u/ko1600-300x169.jpg', 'title': 'Coca-Cola Wins U.S. Corporate Transparency Award, New Ranking Shows', 'text': 'Coca-Cola won for overall transparency in corporate disclosures, a new ranking shows.', 'source_name': 'Forbes', 'date': 'Wed, 16 Oct 2019 15:03:46 -0400', 'topics': [], 'sentiment': 'Positive', 'type': 'Article', 'tickers': ['KO']}, {'news_url': 'https://www.forbes.com/sites/tomaspray/2019/10/12/four-most-oversold-dow-stocks/', 'image_url': 'https://cdn.snapi.dev/images/v1/n/o/0x600.jpg', 'title': 'Four Most Oversold Dow Stocks', 'text': 'The encouraging news on the U.S. – China trade deal could help boost the very low bullish sentiment from the most recent AAII survey.', 'source_name': 'Forbes', 'date': 'Sat, 12 Oct 2019 16:07:01 -0400', 'topics': [], 'sentiment': 'Positive', 'type': 'Article', 'tickers': ['KO', 'MCD', 'PG', 'TRV']}, {'news_url': 'https://www.forbes.com/sites/louisbiscotti/2019/10/10/a-beverage-behemoth-awakens-as-coke-adds-energy/', 'image_url': 'https://cdn.snapi.dev/images/v1/k/o/kok00s-1.jpg', 'title': 'A Beverage Behemoth Awakens as Coke Adds Energy', 'text': 'Coke is going beyond spin and slogans to stay relevant with today’s customers, launching a new portfolio of products – possibly its biggest ever — led by energy drinks.', 'source_name': 'Forbes', 'date': 'Thu, 10 Oct 2019 14:54:25 -0400', 'topics': [], 'sentiment': 'Positive', 'type': 'Article', 'tickers': ['KO']}]}\n",
      "[]\n"
     ]
    }
   ],
   "source": [
    "x= stock_news_api('KO')\n",
    "print(x)"
   ]
  },
  {
   "cell_type": "code",
   "execution_count": 54,
   "metadata": {},
   "outputs": [],
   "source": [
    "def news_api(symbol):\n",
    "    \n",
    "    url_list = []\n",
    "    \n",
    "    api = \"https://newsapi.org/v2/top-headlines\"\n",
    "    params = {\n",
    "        \"q\"        : symbol,\n",
    "        \"pageSize\" : 20,\n",
    "        \"apiKey\"   : \"88fc41fd9cac459ba9ef9f982a352180\",\n",
    "        #\"category\" : \"health\",\n",
    "        #\"country\":\"us\"\n",
    "        #\"sources\"  : \"NYTimes,Reuters,Forbes,CNBC,CNN\"\n",
    "    }\n",
    "    data = requests.get(api, params = params).json()\n",
    "    print(data)\n",
    "    for i in data[\"data\"]:\n",
    "        url_list.append(i[\"news_url\"])\n",
    "        \n",
    "    return url_list"
   ]
  },
  {
   "cell_type": "code",
   "execution_count": 72,
   "metadata": {},
   "outputs": [
    {
     "name": "stdout",
     "output_type": "stream",
     "text": [
      "{'status': 'ok', 'totalResults': 78, 'articles': [{'source': {'id': 'goteborgs-posten', 'name': 'Göteborgs-Posten'}, 'author': 'Björn Werner', 'title': 'Björn Werner: Jag vet inte hur många gånger jag haft corona', 'description': 'Vår kollektiva hypokondri håller kurvan nere.', 'url': 'http://www.gp.se/kultur/kultur/jag-vet-inte-hur-m%C3%A5nga-g%C3%A5nger-jag-nog-inte-haft-corona-1.26912221', 'urlToImage': 'http://www.gp.se/image/policy:1.26912219:1587138448/image.jpg?f=Wide%26w=1200%26%24p%24f%24w=834285a', 'publishedAt': '2020-04-18T19:00:00Z', 'content': 'LÄS MER:Chefredaktörer ska inte gissa om corona\\r\\nLÄS MER:Vår frihet tas ifrån oss en presskonferens i taget\\r\\nJag vet inte hur många gånger jag varit kanske men också garanterat absolut inte sjuk i corona de senaste månaderna. Helt säkert fler än tolv. I flera… [+2919 chars]'}, {'source': {'id': 'goteborgs-posten', 'name': 'Göteborgs-Posten'}, 'author': 'Stefan Bjarnefors', 'title': 'Vanligaste sjukdomarna – hos de som dör i covid-19', 'description': 'Många av de som drabbas svårt av covid-19 har andra bakomliggande sjukdomar. Bland de avlidna är det vanligast med kronisk hjärtsjukdom följt av diabetes samt lung- och njursjukdom. – Har man begränsningar där blir man mer allvarligt sjuk och kommer behöva vä…', 'url': 'http://www.gp.se/nyheter/sverige/vanligaste-sjukdomarna-hos-de-som-d%C3%B6r-i-covid-19-1.26938903', 'urlToImage': 'http://www.gp.se/image/policy:1.26938898:1587225719/image.jpg?f=Wide%26w=1200%26%24p%24f%24w=834285a', 'publishedAt': '2020-04-18T17:58:29Z', 'content': 'Närmare 14 000 fall av covid-19 har upptäckts i Sverige och ungefär 1 500 människor har avlidit i skrivande stund. \\r\\nSedan tidigare är det känt att de med bakomliggande sjukdomar, samt äldre personer, är särskilt utsatta och riskerar att drabbas svårt. Något … [+2037 chars]'}, {'source': {'id': 'der-tagesspiegel', 'name': 'Der Tagesspiegel'}, 'author': 'Hermann Rudolph', 'title': 'Zerrissenheit und Zuversicht', 'description': 'Kein Politiker in der Nachkriegszeit verkörpert so wie Weizsäcker die Kontinuität, aber auch die Brüche der deutschen Geschichte und ihrer Eliten.', 'url': 'https://www.tagesspiegel.de/kultur/richard-von-weizsaecker-zum-100-geburtstag-zerrissenheit-und-zuversicht/25752990.html', 'urlToImage': 'https://www.tagesspiegel.de/images/heprodimagesfotos86120200419rvw_475_1_20200418155301342-jpg/25753000/2-format530.jpg', 'publishedAt': '2020-04-18T17:07:35+00:00', 'content': 'In dieser Woche wäre er hundert Jahre alt geworden, aber dieses Datum führt uns auch vor Augen, dass es gerade erst fünf Jahre her ist, dass das Leben von Richard von Weizsäcker zu Ende ging. Vielleicht ist das der Grund, warum uns der langjährige Bundespräsi… [+6234 chars]'}, {'source': {'id': 'focus', 'name': 'Focus'}, 'author': 'FOCUS Online', 'title': 'Fünf Top-Übungen für Ihre Arme: Detlef D! Soost bringt Sie fit durch die Krise', 'description': 'Der Fitness-Coach und Motivationstrainer Detlef D! Soosts zeiht Ihnen fünf Übungen für starke Arme. Das 10 Minuten lange Wohnzimmer-Workout können Sie ganz bequem und jederzeit von Zuhause aus nachmachen.', 'url': 'https://www.focus.de/perspektiven/deutschland-hilft-sich/taeglich-bei-focus-online-fuenf-top-uebungen-fuer-ihre-arme-detlef-d-soost-bringt-sie-fit-durch-die-corona-krise_id_11897289.html', 'urlToImage': 'https://p5.focus.de/img/fotos/crop11897272/8442711230-w1200-h627-o-q75-p5/soostwo18tb.jpg', 'publishedAt': '2020-04-18T17:05:44Z', 'content': 'Der Fitness-Coach und Motivationstrainer Detlef D! Soosts zeiht Ihnen fünf Übungen für starke Arme. Das 10 Minuten lange Wohnzimmer-Workout können Sie ganz bequem und jederzeit von Zuhause aus nachmachen. \"In Zeiten von Corona finde ich es wichtig, dass wir u… [+722 chars]'}, {'source': {'id': 'focus', 'name': 'Focus'}, 'author': 'FOCUS Online', 'title': 'Mit Papst-Argument setzte Söder sich in Debatte um Gottesdienste durch', 'description': 'Armin Laschet hat in der Schaltkonferenz der Ministerpräsidenten am Mittwoch für die Öffnung von Gottesdiensten plädiert. Ausgerechnet Bayerns Ministerpräsident Markus Söder setzte dem Ansinnen seines Amtskollegen aus Nordrhein-Westfalen aber mit einem Papst-…', 'url': 'https://www.focus.de/panorama/videos/schaltkonferenz-am-mittwoch-wir-haben-nie-gottesdienste-verboten-laschet-wollte-kirchen-oeffnen-soeder-graetschte-dazwischen_id_11897320.html', 'urlToImage': 'https://p5.focus.de/img/fotos/crop11897319/6682711421-w1200-h627-o-q75-p5/wir-haben-nie-gottesdienste-verboten-las-5e9b0f34724b3b4b70b3f6af-1-apr-18-2020-15-34-06-poster.jpg', 'publishedAt': '2020-04-18T17:04:00Z', 'content': 'Armin Laschet hat in der Schaltkonferenz der Ministerpräsidenten am Mittwoch für die Öffnung von Gottesdiensten plädiert. Ausgerechnet Bayerns Ministerpräsident Markus Söder setzte dem Ansinnen seines Amtskollegen aus Nordrhein-Westfalen aber mit einem Papst-… [+1545 chars]'}, {'source': {'id': 'bild', 'name': 'Bild'}, 'author': 'Kai Franzke Jr. ', 'title': 'Faszination Fussball-Stadien: Groundhopper über seine Leidenschaft', 'description': 'Nicht Camp Nou, nicht Anfield sind für diese Fans wichtig. Sie wollen die komplette Fußballwelt sehen.', 'url': 'http://www.bild.de/sport/fussball/news/faszination-fussball-stadien-groundhopper-ueber-seine-leidenschaft-69201398.bild.html', 'urlToImage': 'https://bilder.bild.de/fotos/faszination-fussball-stadien-groundhopper-ueber-seine-leidenschaft-201381530-70118024/Bild/7.bild.jpg', 'publishedAt': '2020-04-18T17:00:48Z', 'content': 'Sie ticken anders. Sie schauen anders. Sie reisen anders. Für diese Fans ist Fußball mehr als nur 90 Minuten Spielzeit, Sieg oder Niederlage, Sitzplatz oder Steher! \\r\\nNicht Camp Nou, nicht Anfield und auch nicht San Siro sind für diese Fans wichtig. Sie wolle… [+7593 chars]'}, {'source': {'id': 'der-tagesspiegel', 'name': 'Der Tagesspiegel'}, 'author': None, 'title': 'Hertha BSC trifft auf den 1. FC Union bei der Bundesliga Home Challenge', 'description': 'Bei der virtuellen Bundesliga Home Challenge kommt es am Sonntag zum Berliner Derby zwischen Union und Hertha. Die Favoritenrolle ist klar verteilt.', 'url': 'https://www.tagesspiegel.de/sport/berliner-derby-ohne-fans-hertha-bsc-trifft-auf-den-1-fc-union-bei-der-bundesliga-home-challenge/25750176.html', 'urlToImage': 'https://www.tagesspiegel.de/images/36954987-1/25750732/2-format530.jpg', 'publishedAt': '2020-04-18T16:59:50+00:00', 'content': 'Die Coronavirus-Krise beschert den Berliner Fußball-Fans in dieser Saison möglicherweise drei Auflagen der Partien des 1. FC Union gegen Hertha BSC. Durch die Unterbrechung auf dem grünen Rasen kommt es am kommenden Sonntag (16.20 Uhr) zu einem Berliner Derby… [+3073 chars]'}, {'source': {'id': 'die-zeit', 'name': 'Die Zeit'}, 'author': None, 'title': 'Migration: Junge Geflüchtete in Hannover angekommen', 'description': 'Unter ihnen befinden sich 42 Kinder und fünf Jugendliche. Sie sollen zunächst in eine zweiwöchige Quarantäne gehen, bevor sie auf die Bundesländer verteilt werden.', 'url': 'https://www.zeit.de/gesellschaft/zeitgeschehen/2020-04/migration-hannover-fluechtlinge-griechenland-minderjaehrige', 'urlToImage': None, 'publishedAt': '2020-04-18T16:59:14+00:00', 'content': 'Unter ihnen befinden sich 42 Kinder und fünf Jugendliche. Sie sollen zunächst in eine zweiwöchige Quarantäne gehen, bevor sie auf die Bundesländer verteilt werden.'}, {'source': {'id': 'der-tagesspiegel', 'name': 'Der Tagesspiegel'}, 'author': None, 'title': 'Kommt doch bald die Maskenpflicht in Deutschland?', 'description': 'Jena hat sie\\xa0seit zwei Wochen, mit Sachsen und Mecklenburg-Vorpommern gehen jetzt zwei Länder voran, mit Wolfsburg folgt\\xa0eine weitere Stadt.\\xa0Wie es Deutschland mit der Maskenpflicht\\xa0hält.', 'url': 'https://www.tagesspiegel.de/politik/ueberblick-ueber-die-debatte-zum-gesichtsschutz-kommt-doch-bald-die-maskenpflicht-in-deutschland-/25753100.html', 'urlToImage': 'https://www.tagesspiegel.de/images/coronavirus-schwerin/25753106/1-format530.jpg', 'publishedAt': '2020-04-18T16:35:00+00:00', 'content': 'Einfache Gesichtsmasken müssten in der Corona-Pandemie nach Ansicht von Polizeigewerkschaften in Bussen, Bahnen und Geschäften deutschlandweit zur Pflicht werden.\\xa0\\r\\nSowohl die Deutsche Polizeigewerkschaft (DPolG)\\xa0als auch die Gewerkschaft der Polizei (GdP)\\xa0sp… [+4132 chars]'}, {'source': {'id': 'lequipe', 'name': \"L'equipe\"}, 'author': \"L'EQUIPE\", 'title': \"Coronavirus\\xa0: Novak Djokovic\\xa0confirme l'hypothèse d'un fonds d'aide pour les moins bien classés - Tennis - Coronavirus\", 'description': \"Dans un live sur Instagram avec Stan Wawrinka, Novak Djokovic a évoqué les discussions autour de la création d'un fonds d'aide destiné aux joueurs les moins bien classés. Il a donné quelques détails et espère que les changements initiés iront plus loin.\", 'url': 'https://www.lequipe.fr/Tennis/Actualites/Coronavirus-novak-djokovic-confirme-l-hypothese-d-un-fonds-d-aide-pour-les-moins-bien-classes/1128184', 'urlToImage': 'https://medias.lequipe.fr/img-photo-jpg/novak-djokovic-a-l-open-d-australie-cette-annee-p-lahalle-l-equipe/1500000001328381/0:0,1995:1330-640-427-75/11486.jpg', 'publishedAt': '2020-04-18T16:31:00+00:00', 'content': \"Novak Djokovic et Stan Wawrinka approchaient l'heure de live sur Instagram quand ils ont choisi de répondre à une question sur le futur du tennis. Et c'est d'abord l'avenir immédiat du sport, à l'arrêt pour plusieurs mois en raison du coronavirus, et de ses a… [+2037 chars]\"}, {'source': {'id': 'goteborgs-posten', 'name': 'Göteborgs-Posten'}, 'author': 'Michaela Karlén', 'title': 'Här är Göteborgsregionens populäraste gymnasier', 'description': 'Årets niondeklassare har en speciell vårtermin. Grundskolorna är förvisso öppna men nationella proven har ställts in – och nu har årets resultat för gymnasieantagningen kommit. Här hittar du listan över Göteborgsregionens mest populära gymnasieskolor.', 'url': 'http://www.gp.se/nyheter/g%C3%B6teborg/h%C3%A4r-%C3%A4r-g%C3%B6teborgsregionens-popul%C3%A4raste-gymnasier-1.26888222', 'urlToImage': 'http://www.gp.se/image/policy:1.26888212:1587220064/image.jpg?f=Wide%26w=1200%26%24p%24f%24w=834285a', 'publishedAt': '2020-04-18T16:27:31Z', 'content': None}, {'source': {'id': 'die-zeit', 'name': 'Die Zeit'}, 'author': None, 'title': 'Inflation oder Deflation?: Die Preisfrage der Pandemie ', 'description': 'Die Corona-Krise könnte die Inflationsraten in Deutschland und der Eurozone verändern. Viele Ökonomen glauben: Die Preise werden steigen.', 'url': 'https://www.zeit.de/wirtschaft/2020-04/inflation-deflation-deutschland-coronavirus-krise', 'urlToImage': None, 'publishedAt': '2020-04-18T15:32:32+00:00', 'content': 'Die Corona-Krise könnte die Inflationsraten in Deutschland und der Eurozone verändern. Viele Ökonomen glauben: Die Preise werden steigen.'}, {'source': {'id': 'der-tagesspiegel', 'name': 'Der Tagesspiegel'}, 'author': 'Felix Hackenbruch', 'title': 'Bezirke streiten über Drive-In-Teststellen', 'description': 'Neukölln und Mitte planen Berlins erste Drive-In für Coronavirus-Tests. Aus dem Nachbarbezirk kommt heftige Kritik.', 'url': 'https://www.tagesspiegel.de/berlin/coronavirus-in-berlin-bezirke-streiten-ueber-drive-in-teststellen/25752976.html', 'urlToImage': 'https://www.tagesspiegel.de/images/heprodimagesfotos83120200419drive_280_1_20200418132115731-jpg/25752966/2-format530.jpg', 'publishedAt': '2020-04-18T15:32:21+00:00', 'content': 'In Neukölln eröffnet am 27. April Berlins erste Drive-In-Teststelle auf das Coronavirus. Das Bezirksamt will mit sieben bis neun Mitarbeitern auf dem Parkplatz vor dem Hotel Estrel an der Sonnenallee Neuköllner Bürgerinnen und\\xa0Bürger testen. Das sagte Neuköll… [+3196 chars]'}, {'source': {'id': 'the-wall-street-journal', 'name': 'The Wall Street Journal'}, 'author': 'Chuin-Wei Yap', 'title': 'Hong Kong Police Arrest Pro-Democracy Activists', 'description': 'Arrests come as the city remains racked by the coronavirus pandemic', 'url': 'https://www.wsj.com/articles/hong-kong-police-arrest-pro-democracy-activists-11587223545?mod=hp_lista_pos2', 'urlToImage': 'https://images.wsj.net/im-177818/social', 'publishedAt': '2020-04-18T15:25:00Z', 'content': 'Hong Kong police arrested 14 activists on Saturday, part of a response to the semiautonomous citys pro-democracy protest movement.\\r\\nThe arrests came as Hong Kong remains racked by the coronavirus pandemic, and pro-democracy activists say they wont immediately… [+182 chars]'}, {'source': {'id': 'die-zeit', 'name': 'Die Zeit'}, 'author': None, 'title': 'Corona-App: \"Ich wette darauf, dass in Deutschland alle mitmachen\"', 'description': 'Ist eine Kontakt-App der Weg aus dem Lockdown? IT-Unternehmer Hans-Christian Boos hat dafür ein Konzept entworfen. Und ist sicher, dass die Deutschen es nutzen werden.', 'url': 'https://www.zeit.de/digital/datenschutz/2020-04/corona-app-it-unternehmen-hans-christian-boos', 'urlToImage': None, 'publishedAt': '2020-04-18T15:14:54+00:00', 'content': 'Ist eine Kontakt-App der Weg aus dem Lockdown? IT-Unternehmer Hans-Christian Boos hat dafür ein Konzept entworfen. Und ist sicher, dass die Deutschen es nutzen werden.'}, {'source': {'id': 'goteborgs-posten', 'name': 'Göteborgs-Posten'}, 'author': 'Robin Rasper', 'title': 'Kändiskocken tappade smak- och luktsinnet', 'description': 'Den senaste månaden har varit tuff för kocken och tv-profilen Leif Mannerström sedan han förlorat både matlust och sitt smak- och luktsinne. – Det är klart jag var orolig, säger han.', 'url': 'http://www.gp.se/nyheter/g%C3%B6teborg/k%C3%A4ndiskocken-tappade-smak-och-luktsinnet-1.26935723', 'urlToImage': 'http://www.gp.se/image/policy:1.26935709:1587214553/image.jpg?f=Wide%26w=1200%26%24p%24f%24w=834285a', 'publishedAt': '2020-04-18T14:55:43Z', 'content': 'Det är en pigg Leif Mannerström som svarar i telefon. \\r\\n Pannkakorna min fru lagade åt mig till frukost smakade riktigt bra, säger han. \\r\\nGlädjen över partnern Lilians måltid står i bjärt kontrast till hur den välkände krögaren och tv-profilens matlust sett u… [+2995 chars]'}, {'source': {'id': 'nrk', 'name': 'NRK'}, 'author': 'NRK', 'title': '888 nye døde i Storbritannia', 'description': 'I løpet av det siste døgnet har 888 personer dødd av koronaviruset i Storbritannia, melder Reuters. Dermed har 15,464 dødd av sykdommen totalt. Det er foreløpig registrert omtrent 114.000 smittede i Storbritannia.', 'url': 'https://www.nrk.no/nyheter/888-nye-dode-i-storbritannia-1.14987042', 'urlToImage': 'https://static.nrk.no/nrkno/serum/2.0.411//type/page/img/default.jpg', 'publishedAt': '2020-04-18T14:38:05.4561974Z', 'content': '18. april2020kl.15:25I løpet av det siste døgnet har 888 personer dødd av koronaviruset i Storbritannia, melder Reuters. Dermed har 15,464 dødd av sykdommen totalt. Det er foreløpig registrert omtrent 114.000 smittede i Storbritannia.'}, {'source': {'id': 'handelsblatt', 'name': 'Handelsblatt'}, 'author': None, 'title': 'Union bei 39 Prozent - SPD und Grüne verlieren', 'description': 'Die Union konnte ihren Vorsprung auf SPD und Grüne weiter ausbauen. Mit 39 Prozent liegt sie nun\\xa023 beziehungsweise 24 Prozent vor der den beiden Konkurrenten.', 'url': 'https://www.handelsblatt.com/politik/deutschland/umfrage-union-bei-39-prozent-spd-und-gruene-verlieren/25752888.html', 'urlToImage': 'https://www.handelsblatt.com/images/bundestag/25752904/2-format2003.jpg', 'publishedAt': '2020-04-18T14:26:23+00:00', 'content': 'Berlin Im Zuge der Coronakrise gewinnt die Union einer Umfrage zufolge weiter an Beliebtheit. Im RTL/n-tv-Trendbarometer des Forsa-Instituts steigt die CDU/CSU im Vergleich zur Vorwoche um zwei Prozentpunkte auf 39 Prozent. Das ist der derzeit höchste Wert al… [+120 chars]'}, {'source': {'id': 'wirtschafts-woche', 'name': 'Wirtschafts Woche'}, 'author': 'Wirtschaftswoche', 'title': 'Umfrage: Union bei 39 Prozent – SPD und Grüne verlieren', 'description': 'Die Union konnte ihren Vorsprung auf SPD und Grüne weiter ausbauen. Mit 39 Prozent liegt sie nun\\xa023 beziehungsweise 24 Prozent vor der den beiden Konkurrenten.', 'url': 'https://www.wiwo.de/politik/deutschland/umfrage-union-bei-39-prozent-spd-und-gruene-verlieren/25753004.html', 'urlToImage': 'https://www.wiwo.de/images/bundestag/25752904/2-format11240.jpg', 'publishedAt': '2020-04-18T14:26:23+00:00', 'content': 'Für Nachrichtenseiten wie WirtschaftsWoche Online sind Anzeigen eine wichtige Einnahmequelle. Mit den Werbeerlösen können wir die Arbeit unserer Redaktion bezahlen und Qualitätsartikel kostenfrei veröffentlichen.\\r\\nLeider verweigern Sie uns diese Einnahmen. We… [+113 chars]'}, {'source': {'id': 'handelsblatt', 'name': 'Handelsblatt'}, 'author': 'Martin Kölling', 'title': 'Japans Hausbaukonzerne greifen global an', 'description': 'Während der serielle Wohnungsbau in Deutschland gerade erst aufkeimt, hat er in Japan  längst Tradition. Nun wollen die Vorreiter aus Fernost expandieren.', 'url': 'https://www.handelsblatt.com/finanzen/immobilien/serieller-wohnungsbau-japans-hausbaukonzerne-greifen-global-an/25747732.html', 'urlToImage': 'https://www.handelsblatt.com/images/fujisawa-sustainable-smart-town/25747844/2-format2003.jpg', 'publishedAt': '2020-04-18T14:07:53+00:00', 'content': 'Tokio Normalerweise verkauft Yoshihiro Nakai in Japan Fertighäuser. Doch bei der amerikanischen Elektronikmesse CES stand der Präsident von Sekisui House, Japans größtem Hersteller von Eigenheimen, als Sprecher in Las Vegas auf der Bühne. Er stellte etwas vor… [+12082 chars]'}]}\n"
     ]
    },
    {
     "ename": "KeyError",
     "evalue": "'data'",
     "output_type": "error",
     "traceback": [
      "\u001b[0;31m\u001b[0m",
      "\u001b[0;31mKeyError\u001b[0mTraceback (most recent call last)",
      "\u001b[0;32m<ipython-input-72-5c5aadd2b904>\u001b[0m in \u001b[0;36m<module>\u001b[0;34m\u001b[0m\n\u001b[0;32m----> 1\u001b[0;31m \u001b[0mprint\u001b[0m\u001b[0;34m(\u001b[0m\u001b[0mnews_api\u001b[0m\u001b[0;34m(\u001b[0m\u001b[0;34m'KO'\u001b[0m\u001b[0;34m)\u001b[0m\u001b[0;34m)\u001b[0m\u001b[0;34m\u001b[0m\u001b[0;34m\u001b[0m\u001b[0m\n\u001b[0m",
      "\u001b[0;32m<ipython-input-54-e9624c56d4a3>\u001b[0m in \u001b[0;36mnews_api\u001b[0;34m(symbol)\u001b[0m\n\u001b[1;32m     14\u001b[0m     \u001b[0mdata\u001b[0m \u001b[0;34m=\u001b[0m \u001b[0mrequests\u001b[0m\u001b[0;34m.\u001b[0m\u001b[0mget\u001b[0m\u001b[0;34m(\u001b[0m\u001b[0mapi\u001b[0m\u001b[0;34m,\u001b[0m \u001b[0mparams\u001b[0m \u001b[0;34m=\u001b[0m \u001b[0mparams\u001b[0m\u001b[0;34m)\u001b[0m\u001b[0;34m.\u001b[0m\u001b[0mjson\u001b[0m\u001b[0;34m(\u001b[0m\u001b[0;34m)\u001b[0m\u001b[0;34m\u001b[0m\u001b[0;34m\u001b[0m\u001b[0m\n\u001b[1;32m     15\u001b[0m     \u001b[0mprint\u001b[0m\u001b[0;34m(\u001b[0m\u001b[0mdata\u001b[0m\u001b[0;34m)\u001b[0m\u001b[0;34m\u001b[0m\u001b[0;34m\u001b[0m\u001b[0m\n\u001b[0;32m---> 16\u001b[0;31m     \u001b[0;32mfor\u001b[0m \u001b[0mi\u001b[0m \u001b[0;32min\u001b[0m \u001b[0mdata\u001b[0m\u001b[0;34m[\u001b[0m\u001b[0;34m\"data\"\u001b[0m\u001b[0;34m]\u001b[0m\u001b[0;34m:\u001b[0m\u001b[0;34m\u001b[0m\u001b[0;34m\u001b[0m\u001b[0m\n\u001b[0m\u001b[1;32m     17\u001b[0m         \u001b[0murl_list\u001b[0m\u001b[0;34m.\u001b[0m\u001b[0mappend\u001b[0m\u001b[0;34m(\u001b[0m\u001b[0mi\u001b[0m\u001b[0;34m[\u001b[0m\u001b[0;34m\"news_url\"\u001b[0m\u001b[0;34m]\u001b[0m\u001b[0;34m)\u001b[0m\u001b[0;34m\u001b[0m\u001b[0;34m\u001b[0m\u001b[0m\n\u001b[1;32m     18\u001b[0m \u001b[0;34m\u001b[0m\u001b[0m\n",
      "\u001b[0;31mKeyError\u001b[0m: 'data'"
     ]
    }
   ],
   "source": [
    "print(news_api('KO'))"
   ]
  },
  {
   "cell_type": "code",
   "execution_count": null,
   "metadata": {},
   "outputs": [],
   "source": []
  },
  {
   "cell_type": "code",
   "execution_count": null,
   "metadata": {},
   "outputs": [],
   "source": []
  },
  {
   "cell_type": "code",
   "execution_count": null,
   "metadata": {},
   "outputs": [],
   "source": []
  },
  {
   "cell_type": "code",
   "execution_count": null,
   "metadata": {},
   "outputs": [],
   "source": []
  },
  {
   "cell_type": "code",
   "execution_count": null,
   "metadata": {},
   "outputs": [],
   "source": []
  },
  {
   "cell_type": "code",
   "execution_count": null,
   "metadata": {},
   "outputs": [],
   "source": []
  },
  {
   "cell_type": "code",
   "execution_count": null,
   "metadata": {},
   "outputs": [],
   "source": []
  },
  {
   "cell_type": "code",
   "execution_count": null,
   "metadata": {},
   "outputs": [],
   "source": []
  },
  {
   "cell_type": "code",
   "execution_count": null,
   "metadata": {},
   "outputs": [],
   "source": []
  },
  {
   "cell_type": "code",
   "execution_count": null,
   "metadata": {},
   "outputs": [],
   "source": []
  },
  {
   "cell_type": "code",
   "execution_count": null,
   "metadata": {},
   "outputs": [],
   "source": []
  },
  {
   "cell_type": "code",
   "execution_count": null,
   "metadata": {},
   "outputs": [],
   "source": []
  },
  {
   "cell_type": "code",
   "execution_count": null,
   "metadata": {},
   "outputs": [],
   "source": []
  },
  {
   "cell_type": "code",
   "execution_count": null,
   "metadata": {},
   "outputs": [],
   "source": []
  },
  {
   "cell_type": "code",
   "execution_count": null,
   "metadata": {},
   "outputs": [],
   "source": []
  },
  {
   "cell_type": "code",
   "execution_count": null,
   "metadata": {},
   "outputs": [],
   "source": []
  },
  {
   "cell_type": "code",
   "execution_count": null,
   "metadata": {},
   "outputs": [],
   "source": []
  },
  {
   "cell_type": "code",
   "execution_count": null,
   "metadata": {},
   "outputs": [],
   "source": []
  },
  {
   "cell_type": "code",
   "execution_count": null,
   "metadata": {},
   "outputs": [],
   "source": []
  },
  {
   "cell_type": "code",
   "execution_count": null,
   "metadata": {},
   "outputs": [],
   "source": []
  },
  {
   "cell_type": "code",
   "execution_count": null,
   "metadata": {},
   "outputs": [],
   "source": []
  },
  {
   "cell_type": "code",
   "execution_count": null,
   "metadata": {},
   "outputs": [],
   "source": []
  },
  {
   "cell_type": "code",
   "execution_count": null,
   "metadata": {},
   "outputs": [],
   "source": []
  },
  {
   "cell_type": "code",
   "execution_count": null,
   "metadata": {},
   "outputs": [],
   "source": []
  },
  {
   "cell_type": "code",
   "execution_count": null,
   "metadata": {},
   "outputs": [],
   "source": []
  },
  {
   "cell_type": "code",
   "execution_count": null,
   "metadata": {},
   "outputs": [],
   "source": []
  },
  {
   "cell_type": "code",
   "execution_count": null,
   "metadata": {},
   "outputs": [],
   "source": []
  },
  {
   "cell_type": "code",
   "execution_count": null,
   "metadata": {},
   "outputs": [],
   "source": []
  },
  {
   "cell_type": "code",
   "execution_count": null,
   "metadata": {},
   "outputs": [],
   "source": []
  },
  {
   "cell_type": "code",
   "execution_count": null,
   "metadata": {},
   "outputs": [],
   "source": []
  },
  {
   "cell_type": "code",
   "execution_count": null,
   "metadata": {},
   "outputs": [],
   "source": []
  },
  {
   "cell_type": "code",
   "execution_count": null,
   "metadata": {},
   "outputs": [],
   "source": []
  },
  {
   "cell_type": "code",
   "execution_count": null,
   "metadata": {},
   "outputs": [],
   "source": []
  },
  {
   "cell_type": "code",
   "execution_count": null,
   "metadata": {},
   "outputs": [],
   "source": []
  },
  {
   "cell_type": "code",
   "execution_count": null,
   "metadata": {},
   "outputs": [],
   "source": []
  },
  {
   "cell_type": "code",
   "execution_count": null,
   "metadata": {},
   "outputs": [],
   "source": []
  },
  {
   "cell_type": "code",
   "execution_count": null,
   "metadata": {},
   "outputs": [],
   "source": []
  },
  {
   "cell_type": "code",
   "execution_count": null,
   "metadata": {},
   "outputs": [],
   "source": []
  }
 ],
 "metadata": {
  "kernelspec": {
   "display_name": "Python 3",
   "language": "python",
   "name": "python3"
  },
  "language_info": {
   "codemirror_mode": {
    "name": "ipython",
    "version": 3
   },
   "file_extension": ".py",
   "mimetype": "text/x-python",
   "name": "python",
   "nbconvert_exporter": "python",
   "pygments_lexer": "ipython3",
   "version": "3.6.9"
  },
  "toc": {
   "nav_menu": {},
   "number_sections": true,
   "sideBar": true,
   "skip_h1_title": false,
   "title_cell": "Table of Contents",
   "title_sidebar": "Contents",
   "toc_cell": false,
   "toc_position": {},
   "toc_section_display": true,
   "toc_window_display": false
  }
 },
 "nbformat": 4,
 "nbformat_minor": 4
}
